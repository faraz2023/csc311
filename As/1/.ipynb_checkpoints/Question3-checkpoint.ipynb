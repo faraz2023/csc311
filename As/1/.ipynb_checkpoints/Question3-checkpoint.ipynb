{
 "cells": [
  {
   "cell_type": "markdown",
   "metadata": {},
   "source": [
    "## Imports"
   ]
  },
  {
   "cell_type": "code",
   "execution_count": null,
   "metadata": {},
   "outputs": [],
   "source": [
    "import math\n",
    "import sys\n",
    "from sklearn.feature_extraction.text import CountVectorizer\n",
    "import matplotlib.pyplot as plt\n",
    "import pandas as pd\n",
    "from sklearn import tree\n",
    "import graphviz\n",
    "from IPython.display import Image\n",
    "import numpy as np\n",
    "from sklearn.metrics import confusion_matrix, accuracy_score, classification_report\n",
    "from sklearn.tree import DecisionTreeClassifier\n",
    "\n",
    "np.set_printoptions(threshold=sys.maxsize)\n",
    "\n",
    "from sklearn.model_selection import train_test_split"
   ]
  },
  {
   "cell_type": "code",
   "execution_count": null,
   "metadata": {},
   "outputs": [],
   "source": [
    "vectorizer = CountVectorizer()"
   ]
  },
  {
   "cell_type": "code",
   "execution_count": null,
   "metadata": {},
   "outputs": [],
   "source": [
    "def load_data():\n",
    "\n",
    "    #open, read, strip real_news\n",
    "    real = open('clean_real.txt')\n",
    "    real = real.readlines()\n",
    "    real = [line.strip() for line in real]\n",
    "    y = [True for i in range(len(real))]\n",
    "\n",
    "    #open, read, strip fake news\n",
    "    fake = open('clean_fake.txt')\n",
    "    fake = fake.readlines()\n",
    "    fake = [line.strip() for line in fake]\n",
    "    y += [False for i in range(len(fake))]\n",
    "\n",
    "    all_news = real + fake\n",
    "\n",
    "    global vectorizer\n",
    "    X = vectorizer.fit_transform(all_news)\n",
    "    X = X.toarray()\n",
    "\n",
    "\n",
    "\n",
    "    X_train, X_test, y_train, y_test \\\n",
    "        = train_test_split(X, y, test_size=0.3)\n",
    "\n",
    "    X_test, X_val, y_test, y_val \\\n",
    "        = train_test_split(X_test, y_test, test_size=0.5)\n",
    "\n",
    "    return {\n",
    "        'X_train': X_train,\n",
    "        'X_test': X_test,\n",
    "        'X_val': X_val,\n",
    "        'y_train': y_train,\n",
    "        'y_test': y_test,\n",
    "        'y_val': y_val\n",
    "    }"
   ]
  },
  {
   "cell_type": "code",
   "execution_count": null,
   "metadata": {},
   "outputs": [],
   "source": [
    "def train_tree(X_train, y_train, max_depth, criterion):\n",
    "    # Creating the classifier object\n",
    "    clf = DecisionTreeClassifier(criterion=criterion,\n",
    "                                      max_depth=max_depth)\n",
    "\n",
    "    # Performing training\n",
    "    clf.fit(X_train, y_train)\n",
    "    return clf\n",
    "\n",
    "# Function to make predictions\n",
    "def prediction(X_test, clf_object):\n",
    "    # Predicton on test with giniIndex\n",
    "    y_pred = clf_object.predict(X_test)\n",
    "    return y_pred\n",
    "\n",
    "def validate_tree(clf, X_test, y_test):\n",
    "    y_pred = prediction(X_test, clf)\n",
    "    # print(\"Confusion Matrix: \", confusion_matrix(y_test, y_pred))\n",
    "    # print(\"Report : \" classification_report(y_test, y_pred))\n",
    "    accurancy = accuracy_score(y_test, y_pred) * 100\n",
    "    print(\"Accuracy : \",\n",
    "      accurancy)\n",
    "\n",
    "    return accurancy"
   ]
  },
  {
   "cell_type": "code",
   "execution_count": null,
   "metadata": {},
   "outputs": [],
   "source": [
    "def select_tree_model(leaning_data):\n",
    "\n",
    "    # I have choosen scaler multipications of log2(len(test_data) from 1 to 5 for \"sensible\" max depth\n",
    "    trainig_size_log = int(math.log2(len(learning_data['X_train'])))\n",
    "\n",
    "    max_accuracy = 0\n",
    "    best_clf = None\n",
    "\n",
    "    # tree trining\n",
    "    for criterion in ['gini', 'entropy']:\n",
    "        for i in range(1, 5):\n",
    "            max_depth = int(1.5 * i * trainig_size_log)\n",
    "            clf = train_tree(learning_data['X_train'], learning_data['y_train'], max_depth, criterion)\n",
    "            print(\"Results for \", criterion, \" index, max depth of \", max_depth, \" :\")\n",
    "            accuracy = validate_tree(clf, learning_data['X_val'], learning_data['y_val'])\n",
    "            if(accuracy > max_accuracy):\n",
    "                max_accuracy = accuracy\n",
    "                best_clf = clf\n",
    "    return max_accuracy, best_clf\n"
   ]
  },
  {
   "cell_type": "code",
   "execution_count": null,
   "metadata": {},
   "outputs": [],
   "source": [
    "learning_data = load_data()\n",
    "\n",
    "feature_names = vectorizer.get_feature_names()\n",
    "accuracy, clf = select_tree_model(learning_data)\n",
    "\n",
    "print(\"Max accuracy on validation sets: {}\".format(accuracy))\n",
    "print(\"-----\\n Best tree gets this accuracy on the training set:\\n\")\n",
    "validate_tree(clf, learning_data['X_test'], learning_data['y_test'])\n",
    "\n",
    "\n",
    "dot_data = tree.export_graphviz(clf,feature_names=feature_names, filled=True, class_names=['Fake', 'Real'])\n",
    "graph = graphviz.Source(dot_data)\n",
    "graph.render('my-tree')"
   ]
  }
 ],
 "metadata": {
  "kernelspec": {
   "display_name": "Python 3",
   "language": "python",
   "name": "python3"
  },
  "language_info": {
   "codemirror_mode": {
    "name": "ipython",
    "version": 3
   },
   "file_extension": ".py",
   "mimetype": "text/x-python",
   "name": "python",
   "nbconvert_exporter": "python",
   "pygments_lexer": "ipython3",
   "version": "3.7.4"
  }
 },
 "nbformat": 4,
 "nbformat_minor": 2
}
